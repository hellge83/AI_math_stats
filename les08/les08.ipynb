{
 "cells": [
  {
   "cell_type": "code",
   "execution_count": 1,
   "metadata": {},
   "outputs": [],
   "source": [
    "import pandas as pd\n",
    "import numpy as np\n",
    "from itertools import combinations\n",
    "from scipy import stats\n",
    "from matplotlib import pyplot as plt\n",
    "plt.style.use('seaborn-whitegrid')"
   ]
  },
  {
   "cell_type": "markdown",
   "metadata": {},
   "source": [
    "## task 01"
   ]
  },
  {
   "cell_type": "markdown",
   "metadata": {},
   "source": [
    "Объясняемая переменная y зависит от двух категориальных факторов A и B, причём фактор A имеет 3 уровня, а фактор B - 4 уровня. Результаты наблюдений приведены в таблице:\n",
    "\n",
    "y = [[2.68, 3.29, 2.88, 4.45],\n",
    "     [4.12, 4.96, 5.09, 5.22],\n",
    "     [5.52, 4.50, 5.42, 5.29]]\n",
    "С помощью двухфакторного дисперсионного анализа проверьте влияние каждого из факторов на переменную y."
   ]
  },
  {
   "cell_type": "code",
   "execution_count": 2,
   "metadata": {},
   "outputs": [
    {
     "data": {
      "text/plain": [
       "array([[2.68, 3.29, 2.88, 4.45],\n",
       "       [4.12, 4.96, 5.09, 5.22],\n",
       "       [5.52, 4.5 , 5.42, 5.29]])"
      ]
     },
     "execution_count": 2,
     "metadata": {},
     "output_type": "execute_result"
    }
   ],
   "source": [
    "y = np.array([[2.68, 3.29, 2.88, 4.45], [4.12, 4.96, 5.09, 5.22], [5.52, 4.50, 5.42, 5.29]])\n",
    "y"
   ]
  },
  {
   "cell_type": "code",
   "execution_count": 3,
   "metadata": {},
   "outputs": [
    {
     "data": {
      "text/plain": [
       "(array([2.68, 3.29, 2.88, 4.45]),\n",
       " array([4.12, 4.96, 5.09, 5.22]),\n",
       " array([5.52, 4.5 , 5.42, 5.29]))"
      ]
     },
     "execution_count": 3,
     "metadata": {},
     "output_type": "execute_result"
    }
   ],
   "source": [
    "ya1 = y[0]\n",
    "ya2 = y[1]\n",
    "ya3 = y[2]\n",
    "\n",
    "ya1, ya2, ya3"
   ]
  },
  {
   "cell_type": "code",
   "execution_count": 4,
   "metadata": {},
   "outputs": [
    {
     "data": {
      "text/plain": [
       "(array([2.68, 4.12, 5.52]),\n",
       " array([3.29, 4.96, 4.5 ]),\n",
       " array([2.88, 5.09, 5.42]),\n",
       " array([4.45, 5.22, 5.29]))"
      ]
     },
     "execution_count": 4,
     "metadata": {},
     "output_type": "execute_result"
    }
   ],
   "source": [
    "yb1 = y.T[0]\n",
    "yb2 = y.T[1]\n",
    "yb3 = y.T[2]\n",
    "yb4 = y.T[3]\n",
    "yb1, yb2, yb3, yb4"
   ]
  },
  {
   "cell_type": "code",
   "execution_count": 5,
   "metadata": {},
   "outputs": [
    {
     "data": {
      "text/plain": [
       "(3.325, 4.8475, 5.1825)"
      ]
     },
     "execution_count": 5,
     "metadata": {},
     "output_type": "execute_result"
    }
   ],
   "source": [
    "ya1_mean = ya1.mean() # по строкам\n",
    "ya2_mean = ya2.mean()\n",
    "ya3_mean = ya3.mean()\n",
    "\n",
    "ya1_mean, ya2_mean, ya3_mean"
   ]
  },
  {
   "cell_type": "code",
   "execution_count": 6,
   "metadata": {},
   "outputs": [
    {
     "data": {
      "text/plain": [
       "(4.1066666666666665, 4.25, 4.463333333333334, 4.986666666666667)"
      ]
     },
     "execution_count": 6,
     "metadata": {},
     "output_type": "execute_result"
    }
   ],
   "source": [
    "yb1_mean = yb1.mean() # по столбцам\n",
    "yb2_mean = yb2.mean()\n",
    "yb3_mean = yb3.mean()\n",
    "yb4_mean = yb4.mean()\n",
    "\n",
    "yb1_mean, yb2_mean, yb3_mean, yb4_mean"
   ]
  },
  {
   "cell_type": "code",
   "execution_count": 7,
   "metadata": {},
   "outputs": [
    {
     "data": {
      "text/plain": [
       "array([2.68, 3.29, 2.88, 4.45, 4.12, 4.96, 5.09, 5.22, 5.52, 4.5 , 5.42,\n",
       "       5.29, 2.68, 4.12, 5.52, 3.29, 4.96, 4.5 , 2.88, 5.09, 5.42, 4.45,\n",
       "       5.22, 5.29])"
      ]
     },
     "execution_count": 7,
     "metadata": {},
     "output_type": "execute_result"
    }
   ],
   "source": [
    "Y = np.concatenate([ya1, ya2, ya3, yb1, yb2, yb3, yb4])\n",
    "Y"
   ]
  },
  {
   "cell_type": "code",
   "execution_count": 8,
   "metadata": {},
   "outputs": [
    {
     "data": {
      "text/plain": [
       "4.451666666666666"
      ]
     },
     "execution_count": 8,
     "metadata": {},
     "output_type": "execute_result"
    }
   ],
   "source": [
    "Y_mean = Y.mean()\n",
    "Y_mean"
   ]
  },
  {
   "cell_type": "code",
   "execution_count": 9,
   "metadata": {},
   "outputs": [],
   "source": [
    "k = 4\n",
    "m = 3"
   ]
  },
  {
   "cell_type": "code",
   "execution_count": 10,
   "metadata": {},
   "outputs": [
    {
     "data": {
      "text/plain": [
       "(7.8407166666666654, 1.338166666666669, 18.424866666666674)"
      ]
     },
     "execution_count": 10,
     "metadata": {},
     "output_type": "execute_result"
    }
   ],
   "source": [
    "SS_a = k * ((ya1_mean - Y_mean) ** 2 + (ya2_mean - Y_mean) ** 2 + (ya3_mean - Y_mean) ** 2)\n",
    "\n",
    "SS_b = m * ((yb1_mean - Y_mean) ** 2 + (yb2_mean - Y_mean) ** 2 + (yb3_mean - Y_mean) ** 2 + (yb4_mean - Y_mean) ** 2)\n",
    "\n",
    "SS_w = ((ya1 - ya1_mean - yb1_mean + Y_mean) ** 2).sum() + ((ya1 - ya1_mean - yb2_mean + Y_mean) ** 2).sum() + ((ya1 - ya1_mean - yb3_mean + Y_mean) ** 2).sum() + ((ya1 - ya1_mean - yb4_mean + Y_mean) ** 2).sum() + ((ya2 - ya2_mean - yb1_mean + Y_mean) ** 2).sum() + ((ya2 - ya2_mean - yb2_mean + Y_mean) ** 2).sum() + ((ya2 - ya2_mean - yb3_mean + Y_mean) ** 2).sum() + ((ya2 - ya2_mean - yb4_mean + Y_mean) ** 2).sum() + ((ya3 - ya3_mean - yb1_mean + Y_mean) ** 2).sum() + ((ya3 - ya3_mean - yb2_mean + Y_mean) ** 2).sum() + ((ya3 - ya3_mean - yb3_mean + Y_mean) ** 2).sum() + ((ya3 - ya3_mean - yb4_mean + Y_mean) ** 2).sum()\n",
    "\n",
    "        \n",
    "SS_a, SS_b, SS_w"
   ]
  },
  {
   "cell_type": "code",
   "execution_count": 11,
   "metadata": {},
   "outputs": [
    {
     "data": {
      "text/plain": [
       "(3.9203583333333327, 0.4460555555555563, 3.0708111111111123)"
      ]
     },
     "execution_count": 11,
     "metadata": {},
     "output_type": "execute_result"
    }
   ],
   "source": [
    "sigma2_a = SS_a / (m - 1)\n",
    "sigma2_b = SS_b / (k - 1)\n",
    "sigma2_w = SS_w / ((k - 1) * (m - 1))\n",
    "\n",
    "sigma2_a, sigma2_b, sigma2_w"
   ]
  },
  {
   "cell_type": "code",
   "execution_count": 12,
   "metadata": {},
   "outputs": [
    {
     "data": {
      "text/plain": [
       "(1.276652386448748, 0.1452565916352178)"
      ]
     },
     "execution_count": 12,
     "metadata": {},
     "output_type": "execute_result"
    }
   ],
   "source": [
    "F_a = sigma2_a / sigma2_w\n",
    "F_b = sigma2_b / sigma2_w\n",
    "F_a, F_b"
   ]
  },
  {
   "cell_type": "code",
   "execution_count": 13,
   "metadata": {},
   "outputs": [
    {
     "data": {
      "text/plain": [
       "(2, 9)"
      ]
     },
     "execution_count": 13,
     "metadata": {},
     "output_type": "execute_result"
    }
   ],
   "source": [
    "k1a = m - 1\n",
    "k2a = m * k - m\n",
    "k1a, k2a"
   ]
  },
  {
   "cell_type": "code",
   "execution_count": 14,
   "metadata": {},
   "outputs": [
    {
     "data": {
      "text/plain": [
       "(3, 8)"
      ]
     },
     "execution_count": 14,
     "metadata": {},
     "output_type": "execute_result"
    }
   ],
   "source": [
    "k1b = k - 1\n",
    "k2b = m * k - k\n",
    "k1b, k2b"
   ]
  },
  {
   "cell_type": "code",
   "execution_count": 15,
   "metadata": {},
   "outputs": [
    {
     "data": {
      "text/plain": [
       "(4.25649472909375, 4.06618055135116)"
      ]
     },
     "execution_count": 15,
     "metadata": {},
     "output_type": "execute_result"
    }
   ],
   "source": [
    "alpha = 0.05\n",
    "\n",
    "t_a = stats.f.ppf(1 - alpha, k1a, k2a)\n",
    "t_b = stats.f.ppf(1 - alpha, k1b, k2b)\n",
    "t_a, t_b"
   ]
  },
  {
   "cell_type": "markdown",
   "metadata": {},
   "source": [
    "Значения статистик не попадают в критические области, оба фактора не влияют на значение y"
   ]
  }
 ],
 "metadata": {
  "kernelspec": {
   "display_name": "Python 3",
   "language": "python",
   "name": "python3"
  },
  "language_info": {
   "codemirror_mode": {
    "name": "ipython",
    "version": 3
   },
   "file_extension": ".py",
   "mimetype": "text/x-python",
   "name": "python",
   "nbconvert_exporter": "python",
   "pygments_lexer": "ipython3",
   "version": "3.7.7"
  }
 },
 "nbformat": 4,
 "nbformat_minor": 4
}
