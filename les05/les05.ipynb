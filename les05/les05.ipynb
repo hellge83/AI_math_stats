{
 "cells": [
  {
   "cell_type": "code",
   "execution_count": 1,
   "metadata": {},
   "outputs": [],
   "source": [
    "import numpy as np\n",
    "from scipy import stats"
   ]
  },
  {
   "cell_type": "markdown",
   "metadata": {},
   "source": [
    "## task01"
   ]
  },
  {
   "cell_type": "markdown",
   "metadata": {},
   "source": [
    "Известно, что генеральная совокупность распределена нормально с известным средним квадратическим отклонением 16. Найти доверительный интервал для оценки математического ожидания mu с надёжностью 0.95, если выборочное среднее равно 80, а объём равен 256."
   ]
  },
  {
   "cell_type": "code",
   "execution_count": 2,
   "metadata": {},
   "outputs": [],
   "source": [
    "n = 256\n",
    "mean = 80\n",
    "std = 16\n"
   ]
  },
  {
   "cell_type": "code",
   "execution_count": 3,
   "metadata": {},
   "outputs": [],
   "source": [
    "p = 0.95\n",
    "alpha = 1 - p"
   ]
  },
  {
   "cell_type": "code",
   "execution_count": 4,
   "metadata": {},
   "outputs": [
    {
     "data": {
      "text/plain": [
       "(-1.959963984540054, 1.959963984540054)"
      ]
     },
     "execution_count": 4,
     "metadata": {},
     "output_type": "execute_result"
    }
   ],
   "source": [
    "t1 = stats.norm.ppf(alpha / 2)\n",
    "t2 = stats.norm.ppf(1 - alpha / 2)\n",
    "t1, t2"
   ]
  },
  {
   "cell_type": "code",
   "execution_count": 5,
   "metadata": {},
   "outputs": [
    {
     "data": {
      "text/plain": [
       "(78.04003601545995, 81.95996398454005)"
      ]
     },
     "execution_count": 5,
     "metadata": {},
     "output_type": "execute_result"
    }
   ],
   "source": [
    "(mean + t1 * std / np.sqrt(n), mean + t2 * std / np.sqrt(n))"
   ]
  },
  {
   "cell_type": "code",
   "execution_count": 6,
   "metadata": {},
   "outputs": [],
   "source": [
    "# ?stats.norm"
   ]
  },
  {
   "cell_type": "markdown",
   "metadata": {},
   "source": [
    "## task02"
   ]
  },
  {
   "cell_type": "markdown",
   "metadata": {},
   "source": [
    "Продавец утверждает, что средний вес пачки печенья составляет 200 г. Из партии извлечена выборка из 10 пачек. Вес каждой пачки составляет:\n",
    "\n",
    "202, 203, 199, 197, 195, 201, 200, 204, 194, 190\n",
    "Известно, что их веса распределены нормально.\n",
    "\n",
    "Верно ли утверждение продавца, если учитывать, что уровень значимости равен 1%?\n",
    "Найдите P-значение для данного теста."
   ]
  },
  {
   "cell_type": "code",
   "execution_count": 7,
   "metadata": {},
   "outputs": [],
   "source": [
    "samples = np.array([202, 203, 199, 197, 195, 201, 200, 204, 194, 190])"
   ]
  },
  {
   "cell_type": "code",
   "execution_count": 8,
   "metadata": {},
   "outputs": [
    {
     "data": {
      "text/plain": [
       "(198.5, 4.453463071962462)"
      ]
     },
     "execution_count": 8,
     "metadata": {},
     "output_type": "execute_result"
    }
   ],
   "source": [
    "np.mean(samples), np.std(samples, ddof = 1)"
   ]
  },
  {
   "cell_type": "code",
   "execution_count": 9,
   "metadata": {},
   "outputs": [],
   "source": [
    "alpha = 0.01"
   ]
  },
  {
   "cell_type": "code",
   "execution_count": 10,
   "metadata": {},
   "outputs": [],
   "source": [
    "def t_statistic(samples: np.ndarray) -> float:\n",
    "    return (samples.mean() - 200) / (samples.std(ddof = 1) / np.sqrt(len(samples)))"
   ]
  },
  {
   "cell_type": "code",
   "execution_count": 11,
   "metadata": {},
   "outputs": [
    {
     "data": {
      "text/plain": [
       "(-3.24983554401537, 3.2498355440153697)"
      ]
     },
     "execution_count": 11,
     "metadata": {},
     "output_type": "execute_result"
    }
   ],
   "source": [
    "n = len(samples)\n",
    "t1 = stats.t.ppf(alpha / 2, df = n - 1)\n",
    "t2 = stats.t.ppf(1 - alpha / 2, df = n - 1)\n",
    "\n",
    "t1, t2"
   ]
  },
  {
   "cell_type": "code",
   "execution_count": 12,
   "metadata": {},
   "outputs": [],
   "source": [
    "from matplotlib import pyplot as plt\n",
    "\n",
    "plt.style.use('seaborn-whitegrid')"
   ]
  },
  {
   "cell_type": "code",
   "execution_count": 13,
   "metadata": {},
   "outputs": [
    {
     "data": {
      "text/plain": [
       "<matplotlib.collections.PolyCollection at 0x2187a2c5b08>"
      ]
     },
     "execution_count": 13,
     "metadata": {},
     "output_type": "execute_result"
    },
    {
     "data": {
      "image/png": "[encoded data removed]",
      "text/plain": [
       "<Figure size 432x288 with 1 Axes>"
      ]
     },
     "metadata": {},
     "output_type": "display_data"
    }
   ],
   "source": [
    "ox = np.linspace(-4, 4, 500)\n",
    "oy = stats.t.pdf(ox, df=n - 1)\n",
    "\n",
    "ox_left = np.linspace(-4, t1, 100)\n",
    "oy_left = stats.t.pdf(ox_left, df=n - 1)\n",
    "\n",
    "ox_right = np.linspace(t2, 4, 100)\n",
    "oy_right = stats.t.pdf(ox_right, df=n - 1)\n",
    "\n",
    "plt.plot(ox, oy)\n",
    "plt.fill_between(ox_left, oy_left, alpha=0.5, color='C0')\n",
    "plt.fill_between(ox_right, oy_right, alpha=0.5, color='C0')"
   ]
  },
  {
   "cell_type": "code",
   "execution_count": 14,
   "metadata": {},
   "outputs": [
    {
     "data": {
      "text/plain": [
       "-1.0651074037450896"
      ]
     },
     "execution_count": 14,
     "metadata": {},
     "output_type": "execute_result"
    }
   ],
   "source": [
    "t = t_statistic(samples)\n",
    "t"
   ]
  },
  {
   "cell_type": "code",
   "execution_count": 15,
   "metadata": {},
   "outputs": [
    {
     "data": {
      "text/plain": [
       "True"
      ]
     },
     "execution_count": 15,
     "metadata": {},
     "output_type": "execute_result"
    }
   ],
   "source": [
    "t1 < t < t2"
   ]
  },
  {
   "cell_type": "markdown",
   "metadata": {},
   "source": [
    "Значение статистики не попало в критическую область, значит, гипотеза остаётся в силе."
   ]
  },
  {
   "cell_type": "code",
   "execution_count": 16,
   "metadata": {},
   "outputs": [
    {
     "data": {
      "text/plain": [
       "0.31456660352472854"
      ]
     },
     "execution_count": 16,
     "metadata": {},
     "output_type": "execute_result"
    }
   ],
   "source": [
    "p_left = stats.t.cdf(t, df=n - 1)\n",
    "p_right = 1 - stats.t.cdf(t, df=n - 1)\n",
    "\n",
    "pvalue = 2 * min(p_left, p_right)\n",
    "\n",
    "pvalue"
   ]
  },
  {
   "cell_type": "code",
   "execution_count": 17,
   "metadata": {},
   "outputs": [],
   "source": [
    "# print('alpha\\tresult')\n",
    "# print('-------------')\n",
    "\n",
    "# for alpha in np.linspace(0, 0.35, 15):\n",
    "#     t1 = stats.t.ppf(alpha / 2, df=n - 1)\n",
    "#     t2 = stats.t.ppf(1 - alpha / 2, df=n - 1)\n",
    "    \n",
    "#     print(round(alpha, 4), '\\t', t1 <= S <= t2)"
   ]
  },
  {
   "cell_type": "markdown",
   "metadata": {},
   "source": [
    "## task 03"
   ]
  },
  {
   "cell_type": "markdown",
   "metadata": {},
   "source": [
    "Дана выборка диаметров подшипников из примера 1 с занятия 5:\n",
    "\n",
    "samples = [0.6603, 0.9466, 0.5968, 1.3792, 1.5481, 0.7515, 1.0681, 1.1134,\n",
    "           1.2088, 1.701 , 1.0282, 1.3579, 1.0191, 1.1784, 1.1168, 1.1372,\n",
    "           0.7273, 1.3958, 0.8665, 1.5112, 1.161 , 1.0232, 1.0865, 1.02  ]\n",
    "Предполагая, что диаметры подшипников распределены нормально, проверьте гипотезу о том, что дисперсия случайной величины равна 0.0625 при уровне значимости alpha = 0.05. Что для этого нужно знать:\n",
    "\n",
    "Альтернативная гипотеза двухсторонняя.\n",
    "Статистика для теста: H = (n - 1) * sample_variance / variance, где n - число элементов в выборке, sample_variance - несмещённая оценка дисперсии, variance - утверждаемая нулевой гипотезой дисперсия.\n",
    "Эта статистика в предположении верности нулевой гипотезы имеет распределение хи-квадрат с параметром df = n - 1. Её квантили можно найти с помощью функции scipy.stats.chi2.ppf."
   ]
  },
  {
   "cell_type": "code",
   "execution_count": 18,
   "metadata": {},
   "outputs": [],
   "source": [
    "samples = np.array([0.6603, 0.9466, 0.5968, 1.3792, 1.5481, 0.7515, 1.0681, 1.1134, 1.2088, 1.701 , 1.0282, 1.3579, 1.0191, 1.1784, 1.1168, 1.1372, 0.7273, 1.3958, 0.8665, 1.5112, 1.161 , 1.0232, 1.0865, 1.02])"
   ]
  },
  {
   "cell_type": "code",
   "execution_count": 19,
   "metadata": {},
   "outputs": [
    {
     "data": {
      "text/plain": [
       "(1.1084541666666665, 0.07804495041666669)"
      ]
     },
     "execution_count": 19,
     "metadata": {},
     "output_type": "execute_result"
    }
   ],
   "source": [
    "np.mean(samples), np.var(samples, ddof = 1)"
   ]
  },
  {
   "cell_type": "code",
   "execution_count": 20,
   "metadata": {},
   "outputs": [],
   "source": [
    "alpha = 0.05\n",
    "n = len(samples)\n",
    "variance = 0.0625"
   ]
  },
  {
   "cell_type": "code",
   "execution_count": 21,
   "metadata": {},
   "outputs": [],
   "source": [
    "def h_statistic(samples: np.ndarray) -> float:\n",
    "    return (n - 1) * np.var(samples, ddof = 1) / variance"
   ]
  },
  {
   "cell_type": "code",
   "execution_count": 22,
   "metadata": {},
   "outputs": [
    {
     "data": {
      "text/plain": [
       "(11.688551922452438, 38.0756272503558)"
      ]
     },
     "execution_count": 22,
     "metadata": {},
     "output_type": "execute_result"
    }
   ],
   "source": [
    "t1 = stats.chi2.ppf(alpha / 2, df = n - 1)\n",
    "t2 = stats.chi2.ppf(1 - alpha / 2, df = n - 1)\n",
    "\n",
    "t1, t2"
   ]
  },
  {
   "cell_type": "code",
   "execution_count": 23,
   "metadata": {},
   "outputs": [
    {
     "data": {
      "text/plain": [
       "<matplotlib.collections.PolyCollection at 0x2187a394e48>"
      ]
     },
     "execution_count": 23,
     "metadata": {},
     "output_type": "execute_result"
    },
    {
     "data": {
      "image/png": "[encoded data removed]",
      "text/plain": [
       "<Figure size 432x288 with 1 Axes>"
      ]
     },
     "metadata": {},
     "output_type": "display_data"
    }
   ],
   "source": [
    "ox = np.linspace(5, 50, 500)\n",
    "oy = stats.chi2.pdf(ox, df=n - 1)\n",
    "\n",
    "ox_left = np.linspace(5, t1, 100)\n",
    "oy_left = stats.chi2.pdf(ox_left, df=n - 1)\n",
    "\n",
    "ox_right = np.linspace(t2, 50, 100)\n",
    "oy_right = stats.chi2.pdf(ox_right, df=n - 1)\n",
    "\n",
    "plt.plot(ox, oy)\n",
    "plt.fill_between(ox_left, oy_left, alpha=0.5, color='C0')\n",
    "plt.fill_between(ox_right, oy_right, alpha=0.5, color='C0')"
   ]
  },
  {
   "cell_type": "code",
   "execution_count": 24,
   "metadata": {},
   "outputs": [
    {
     "data": {
      "text/plain": [
       "28.720541753333343"
      ]
     },
     "execution_count": 24,
     "metadata": {},
     "output_type": "execute_result"
    }
   ],
   "source": [
    "h = h_statistic(samples)\n",
    "h"
   ]
  },
  {
   "cell_type": "code",
   "execution_count": 25,
   "metadata": {},
   "outputs": [
    {
     "data": {
      "text/plain": [
       "True"
      ]
     },
     "execution_count": 25,
     "metadata": {},
     "output_type": "execute_result"
    }
   ],
   "source": [
    "t1 < h < t2"
   ]
  }
 ],
 "metadata": {
  "kernelspec": {
   "display_name": "Python 3",
   "language": "python",
   "name": "python3"
  },
  "language_info": {
   "codemirror_mode": {
    "name": "ipython",
    "version": 3
   },
   "file_extension": ".py",
   "mimetype": "text/x-python",
   "name": "python",
   "nbconvert_exporter": "python",
   "pygments_lexer": "ipython3",
   "version": "3.7.7"
  }
 },
 "nbformat": 4,
 "nbformat_minor": 4
}
