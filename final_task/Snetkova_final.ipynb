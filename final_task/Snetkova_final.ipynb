{
 "cells": [
  {
   "cell_type": "code",
   "execution_count": 1,
   "metadata": {},
   "outputs": [],
   "source": [
    "import pandas as pd\n",
    "import numpy as np\n",
    "from itertools import combinations\n",
    "from scipy import stats\n",
    "from matplotlib import pyplot as plt\n",
    "plt.style.use('seaborn-whitegrid')"
   ]
  },
  {
   "cell_type": "markdown",
   "metadata": {},
   "source": [
    "**Dataset description:**\n",
    "синтетический датасет, используемый для тестовых заданий аналитикам.\n",
    "В нем содержатся данные об установках и всех платежах, совершаемых пользователями во всех приложениях и на всех платформах. Таблица содержит следующие колонки, необходимые для решения задачи:\n",
    "* Game_ID - название приложения. Примеры: “Hidden City”, “Jewels of Rome”, “Mahjong Journey”.\n",
    "* Platform - платформа, на которой играет пользователь. Примеры: “Android”, “Facebook”, “iOS”.\n",
    "* Device_ID - уникальный идентификатор устройства пользователя. Пример: “14321DLVRF5636”.\n",
    "* Install_DateTime - дата и время установки (первого запуска) приложения. Пример: “2019-12-01 15:54:12”.\n",
    "* Payment_DayTime - дата и время совершения платежа. Пример: “2019-12-01 15:54:12”.\n",
    "* Payment_Amount - сумма совершенного платежа в USD. Пример: “49.99”.\n",
    "\n",
    "За отсутствием данных об activity cделаем допущение, что в таблице находятся данные о платежах к 4му дню игры, то есть у каждого last activity day = install day + 4, лайфтайм когорты 4 дня"
   ]
  },
  {
   "cell_type": "markdown",
   "metadata": {},
   "source": [
    "**Что планирую сделать**\n",
    "\n",
    "* Добавить в датасет Total Payments для каждого пользователя\n",
    "* Проверить распределение Total Payments на нормальность\n",
    "* Проверить гипотезу о том, что мат ожидание Total Payments одинаковое во всех играх\n",
    "* Проанализировать влияние платформы на Total Payments (можно в одной игре)\n",
    "* Проверить на корреляцию Total Payments и временной промежуток между инсталлом и датой последнего платежа\n",
    "* Проверить, есть ли корреляция между размером первой покупки и временем до нее с момента инсталла"
   ]
  },
  {
   "cell_type": "markdown",
   "metadata": {},
   "source": [
    "## Read and prepare data"
   ]
  },
  {
   "cell_type": "code",
   "execution_count": 2,
   "metadata": {},
   "outputs": [],
   "source": [
    "DATASET_PATH = 'D:/GeekBrains/math_stats/les08/dataset_202010211425.csv'"
   ]
  },
  {
   "cell_type": "code",
   "execution_count": 3,
   "metadata": {},
   "outputs": [
    {
     "data": {
      "text/html": [
       "<div>\n",
       "<style scoped>\n",
       "    .dataframe tbody tr th:only-of-type {\n",
       "        vertical-align: middle;\n",
       "    }\n",
       "\n",
       "    .dataframe tbody tr th {\n",
       "        vertical-align: top;\n",
       "    }\n",
       "\n",
       "    .dataframe thead th {\n",
       "        text-align: right;\n",
       "    }\n",
       "</style>\n",
       "<table border=\"1\" class=\"dataframe\">\n",
       "  <thead>\n",
       "    <tr style=\"text-align: right;\">\n",
       "      <th></th>\n",
       "      <th>Game_ID</th>\n",
       "      <th>Platform</th>\n",
       "      <th>Device_ID</th>\n",
       "      <th>Install_DateTime</th>\n",
       "      <th>Payment_DayTime</th>\n",
       "      <th>Payment_Amount</th>\n",
       "    </tr>\n",
       "  </thead>\n",
       "  <tbody>\n",
       "    <tr>\n",
       "      <th>0</th>\n",
       "      <td>Hidden City</td>\n",
       "      <td>iOS</td>\n",
       "      <td>10084FTRLK4558</td>\n",
       "      <td>2019-09-15 13:55:00</td>\n",
       "      <td>2019-09-16 04:31:00</td>\n",
       "      <td>9.99</td>\n",
       "    </tr>\n",
       "    <tr>\n",
       "      <th>1</th>\n",
       "      <td>Hidden City</td>\n",
       "      <td>iOS</td>\n",
       "      <td>10084FTRLK4558</td>\n",
       "      <td>2019-09-15 13:55:00</td>\n",
       "      <td>2019-09-16 22:16:00</td>\n",
       "      <td>9.99</td>\n",
       "    </tr>\n",
       "    <tr>\n",
       "      <th>2</th>\n",
       "      <td>Hidden City</td>\n",
       "      <td>iOS</td>\n",
       "      <td>10924YVEGF1782</td>\n",
       "      <td>2019-09-15 11:43:00</td>\n",
       "      <td>2019-09-17 06:33:00</td>\n",
       "      <td>9.99</td>\n",
       "    </tr>\n",
       "    <tr>\n",
       "      <th>3</th>\n",
       "      <td>Hidden City</td>\n",
       "      <td>iOS</td>\n",
       "      <td>10924YVEGF1782</td>\n",
       "      <td>2019-09-15 11:43:00</td>\n",
       "      <td>2019-09-17 13:21:00</td>\n",
       "      <td>99.99</td>\n",
       "    </tr>\n",
       "    <tr>\n",
       "      <th>4</th>\n",
       "      <td>Hidden City</td>\n",
       "      <td>iOS</td>\n",
       "      <td>10924YVEGF1782</td>\n",
       "      <td>2019-09-15 11:43:00</td>\n",
       "      <td>2019-09-17 16:21:00</td>\n",
       "      <td>1.99</td>\n",
       "    </tr>\n",
       "  </tbody>\n",
       "</table>\n",
       "</div>"
      ],
      "text/plain": [
       "       Game_ID Platform       Device_ID     Install_DateTime  \\\n",
       "0  Hidden City      iOS  10084FTRLK4558  2019-09-15 13:55:00   \n",
       "1  Hidden City      iOS  10084FTRLK4558  2019-09-15 13:55:00   \n",
       "2  Hidden City      iOS  10924YVEGF1782  2019-09-15 11:43:00   \n",
       "3  Hidden City      iOS  10924YVEGF1782  2019-09-15 11:43:00   \n",
       "4  Hidden City      iOS  10924YVEGF1782  2019-09-15 11:43:00   \n",
       "\n",
       "       Payment_DayTime  Payment_Amount  \n",
       "0  2019-09-16 04:31:00            9.99  \n",
       "1  2019-09-16 22:16:00            9.99  \n",
       "2  2019-09-17 06:33:00            9.99  \n",
       "3  2019-09-17 13:21:00           99.99  \n",
       "4  2019-09-17 16:21:00            1.99  "
      ]
     },
     "execution_count": 3,
     "metadata": {},
     "output_type": "execute_result"
    }
   ],
   "source": [
    "df = pd.read_csv(DATASET_PATH)\n",
    "df.head(5)"
   ]
  },
  {
   "cell_type": "code",
   "execution_count": 4,
   "metadata": {},
   "outputs": [
    {
     "data": {
      "text/plain": [
       "(31317, 6)"
      ]
     },
     "execution_count": 4,
     "metadata": {},
     "output_type": "execute_result"
    }
   ],
   "source": [
    "df.drop_duplicates(['Game_ID', 'Platform', 'Device_ID']).shape"
   ]
  },
  {
   "cell_type": "code",
   "execution_count": 5,
   "metadata": {},
   "outputs": [
    {
     "data": {
      "text/html": [
       "<div>\n",
       "<style scoped>\n",
       "    .dataframe tbody tr th:only-of-type {\n",
       "        vertical-align: middle;\n",
       "    }\n",
       "\n",
       "    .dataframe tbody tr th {\n",
       "        vertical-align: top;\n",
       "    }\n",
       "\n",
       "    .dataframe thead th {\n",
       "        text-align: right;\n",
       "    }\n",
       "</style>\n",
       "<table border=\"1\" class=\"dataframe\">\n",
       "  <thead>\n",
       "    <tr style=\"text-align: right;\">\n",
       "      <th></th>\n",
       "      <th>Game_ID</th>\n",
       "      <th>Platform</th>\n",
       "      <th>Device_ID</th>\n",
       "      <th>Install_DateTime</th>\n",
       "      <th>Total_Payments</th>\n",
       "    </tr>\n",
       "  </thead>\n",
       "  <tbody>\n",
       "    <tr>\n",
       "      <th>0</th>\n",
       "      <td>Hidden City</td>\n",
       "      <td>Android</td>\n",
       "      <td>10035NEIPI8402</td>\n",
       "      <td>2019-11-10 20:19:00</td>\n",
       "      <td>150.97</td>\n",
       "    </tr>\n",
       "    <tr>\n",
       "      <th>1</th>\n",
       "      <td>Hidden City</td>\n",
       "      <td>Android</td>\n",
       "      <td>10042SDNBF7065</td>\n",
       "      <td>2019-10-18 01:12:00</td>\n",
       "      <td>70.96</td>\n",
       "    </tr>\n",
       "    <tr>\n",
       "      <th>2</th>\n",
       "      <td>Hidden City</td>\n",
       "      <td>Android</td>\n",
       "      <td>10061PSNAJ3947</td>\n",
       "      <td>2019-09-24 02:22:00</td>\n",
       "      <td>119.97</td>\n",
       "    </tr>\n",
       "    <tr>\n",
       "      <th>3</th>\n",
       "      <td>Hidden City</td>\n",
       "      <td>Android</td>\n",
       "      <td>10127ZEHMN6457</td>\n",
       "      <td>2019-10-12 11:09:00</td>\n",
       "      <td>89.95</td>\n",
       "    </tr>\n",
       "    <tr>\n",
       "      <th>4</th>\n",
       "      <td>Hidden City</td>\n",
       "      <td>Android</td>\n",
       "      <td>10156IEACL3321</td>\n",
       "      <td>2019-10-21 04:54:00</td>\n",
       "      <td>111.97</td>\n",
       "    </tr>\n",
       "  </tbody>\n",
       "</table>\n",
       "</div>"
      ],
      "text/plain": [
       "       Game_ID Platform       Device_ID     Install_DateTime  Total_Payments\n",
       "0  Hidden City  Android  10035NEIPI8402  2019-11-10 20:19:00          150.97\n",
       "1  Hidden City  Android  10042SDNBF7065  2019-10-18 01:12:00           70.96\n",
       "2  Hidden City  Android  10061PSNAJ3947  2019-09-24 02:22:00          119.97\n",
       "3  Hidden City  Android  10127ZEHMN6457  2019-10-12 11:09:00           89.95\n",
       "4  Hidden City  Android  10156IEACL3321  2019-10-21 04:54:00          111.97"
      ]
     },
     "execution_count": 5,
     "metadata": {},
     "output_type": "execute_result"
    }
   ],
   "source": [
    "total_payments = pd.DataFrame(df.groupby(['Game_ID', 'Platform', 'Device_ID', 'Install_DateTime']).agg({'Payment_Amount': 'sum'}))\n",
    "total_payments.index = total_payments.index.set_names(['Game_ID', 'Platform', 'Device_ID', 'Install_DateTime'])\n",
    "total_payments.reset_index(inplace = True)\n",
    "total_payments = total_payments.rename({'Payment_Amount': 'Total_Payments'}, axis=1)\n",
    "total_payments.head(5)"
   ]
  },
  {
   "cell_type": "code",
   "execution_count": 6,
   "metadata": {},
   "outputs": [
    {
     "data": {
      "text/html": [
       "<div>\n",
       "<style scoped>\n",
       "    .dataframe tbody tr th:only-of-type {\n",
       "        vertical-align: middle;\n",
       "    }\n",
       "\n",
       "    .dataframe tbody tr th {\n",
       "        vertical-align: top;\n",
       "    }\n",
       "\n",
       "    .dataframe thead th {\n",
       "        text-align: right;\n",
       "    }\n",
       "</style>\n",
       "<table border=\"1\" class=\"dataframe\">\n",
       "  <thead>\n",
       "    <tr style=\"text-align: right;\">\n",
       "      <th></th>\n",
       "      <th>Game_ID</th>\n",
       "      <th>Platform</th>\n",
       "      <th>Device_ID</th>\n",
       "      <th>Install_DateTime</th>\n",
       "      <th>Payment_DayTime</th>\n",
       "      <th>Payment_Amount</th>\n",
       "      <th>Total_Payments</th>\n",
       "    </tr>\n",
       "  </thead>\n",
       "  <tbody>\n",
       "    <tr>\n",
       "      <th>0</th>\n",
       "      <td>Hidden City</td>\n",
       "      <td>iOS</td>\n",
       "      <td>10084FTRLK4558</td>\n",
       "      <td>2019-09-15 13:55:00</td>\n",
       "      <td>2019-09-16 04:31:00</td>\n",
       "      <td>9.99</td>\n",
       "      <td>19.98</td>\n",
       "    </tr>\n",
       "    <tr>\n",
       "      <th>1</th>\n",
       "      <td>Hidden City</td>\n",
       "      <td>iOS</td>\n",
       "      <td>10084FTRLK4558</td>\n",
       "      <td>2019-09-15 13:55:00</td>\n",
       "      <td>2019-09-16 22:16:00</td>\n",
       "      <td>9.99</td>\n",
       "      <td>19.98</td>\n",
       "    </tr>\n",
       "    <tr>\n",
       "      <th>2</th>\n",
       "      <td>Hidden City</td>\n",
       "      <td>iOS</td>\n",
       "      <td>10924YVEGF1782</td>\n",
       "      <td>2019-09-15 11:43:00</td>\n",
       "      <td>2019-09-17 06:33:00</td>\n",
       "      <td>9.99</td>\n",
       "      <td>171.95</td>\n",
       "    </tr>\n",
       "    <tr>\n",
       "      <th>3</th>\n",
       "      <td>Hidden City</td>\n",
       "      <td>iOS</td>\n",
       "      <td>10924YVEGF1782</td>\n",
       "      <td>2019-09-15 11:43:00</td>\n",
       "      <td>2019-09-17 13:21:00</td>\n",
       "      <td>99.99</td>\n",
       "      <td>171.95</td>\n",
       "    </tr>\n",
       "    <tr>\n",
       "      <th>4</th>\n",
       "      <td>Hidden City</td>\n",
       "      <td>iOS</td>\n",
       "      <td>10924YVEGF1782</td>\n",
       "      <td>2019-09-15 11:43:00</td>\n",
       "      <td>2019-09-17 16:21:00</td>\n",
       "      <td>1.99</td>\n",
       "      <td>171.95</td>\n",
       "    </tr>\n",
       "  </tbody>\n",
       "</table>\n",
       "</div>"
      ],
      "text/plain": [
       "       Game_ID Platform       Device_ID     Install_DateTime  \\\n",
       "0  Hidden City      iOS  10084FTRLK4558  2019-09-15 13:55:00   \n",
       "1  Hidden City      iOS  10084FTRLK4558  2019-09-15 13:55:00   \n",
       "2  Hidden City      iOS  10924YVEGF1782  2019-09-15 11:43:00   \n",
       "3  Hidden City      iOS  10924YVEGF1782  2019-09-15 11:43:00   \n",
       "4  Hidden City      iOS  10924YVEGF1782  2019-09-15 11:43:00   \n",
       "\n",
       "       Payment_DayTime  Payment_Amount  Total_Payments  \n",
       "0  2019-09-16 04:31:00            9.99           19.98  \n",
       "1  2019-09-16 22:16:00            9.99           19.98  \n",
       "2  2019-09-17 06:33:00            9.99          171.95  \n",
       "3  2019-09-17 13:21:00           99.99          171.95  \n",
       "4  2019-09-17 16:21:00            1.99          171.95  "
      ]
     },
     "execution_count": 6,
     "metadata": {},
     "output_type": "execute_result"
    }
   ],
   "source": [
    "dataset = pd.merge(df, total_payments, on = ['Game_ID', 'Platform', 'Device_ID', 'Install_DateTime'])\n",
    "dataset.head(5)"
   ]
  },
  {
   "cell_type": "code",
   "execution_count": 7,
   "metadata": {},
   "outputs": [
    {
     "data": {
      "text/html": [
       "<div>\n",
       "<style scoped>\n",
       "    .dataframe tbody tr th:only-of-type {\n",
       "        vertical-align: middle;\n",
       "    }\n",
       "\n",
       "    .dataframe tbody tr th {\n",
       "        vertical-align: top;\n",
       "    }\n",
       "\n",
       "    .dataframe thead th {\n",
       "        text-align: right;\n",
       "    }\n",
       "</style>\n",
       "<table border=\"1\" class=\"dataframe\">\n",
       "  <thead>\n",
       "    <tr style=\"text-align: right;\">\n",
       "      <th></th>\n",
       "      <th>Game_ID</th>\n",
       "      <th>Platform</th>\n",
       "      <th>Device_ID</th>\n",
       "      <th>Install_DateTime</th>\n",
       "      <th>Payment_DayTime</th>\n",
       "    </tr>\n",
       "  </thead>\n",
       "  <tbody>\n",
       "    <tr>\n",
       "      <th>0</th>\n",
       "      <td>Hidden City</td>\n",
       "      <td>Android</td>\n",
       "      <td>10035NEIPI8402</td>\n",
       "      <td>2019-11-10 20:19:00</td>\n",
       "      <td>2019-11-13 21:33:00</td>\n",
       "    </tr>\n",
       "    <tr>\n",
       "      <th>1</th>\n",
       "      <td>Hidden City</td>\n",
       "      <td>Android</td>\n",
       "      <td>10042SDNBF7065</td>\n",
       "      <td>2019-10-18 01:12:00</td>\n",
       "      <td>2019-10-21 09:06:00</td>\n",
       "    </tr>\n",
       "    <tr>\n",
       "      <th>2</th>\n",
       "      <td>Hidden City</td>\n",
       "      <td>Android</td>\n",
       "      <td>10061PSNAJ3947</td>\n",
       "      <td>2019-09-24 02:22:00</td>\n",
       "      <td>2019-09-26 20:22:00</td>\n",
       "    </tr>\n",
       "    <tr>\n",
       "      <th>3</th>\n",
       "      <td>Hidden City</td>\n",
       "      <td>Android</td>\n",
       "      <td>10127ZEHMN6457</td>\n",
       "      <td>2019-10-12 11:09:00</td>\n",
       "      <td>2019-10-14 04:36:00</td>\n",
       "    </tr>\n",
       "    <tr>\n",
       "      <th>4</th>\n",
       "      <td>Hidden City</td>\n",
       "      <td>Android</td>\n",
       "      <td>10156IEACL3321</td>\n",
       "      <td>2019-10-21 04:54:00</td>\n",
       "      <td>2019-10-24 00:45:00</td>\n",
       "    </tr>\n",
       "  </tbody>\n",
       "</table>\n",
       "</div>"
      ],
      "text/plain": [
       "       Game_ID Platform       Device_ID     Install_DateTime  \\\n",
       "0  Hidden City  Android  10035NEIPI8402  2019-11-10 20:19:00   \n",
       "1  Hidden City  Android  10042SDNBF7065  2019-10-18 01:12:00   \n",
       "2  Hidden City  Android  10061PSNAJ3947  2019-09-24 02:22:00   \n",
       "3  Hidden City  Android  10127ZEHMN6457  2019-10-12 11:09:00   \n",
       "4  Hidden City  Android  10156IEACL3321  2019-10-21 04:54:00   \n",
       "\n",
       "       Payment_DayTime  \n",
       "0  2019-11-13 21:33:00  \n",
       "1  2019-10-21 09:06:00  \n",
       "2  2019-09-26 20:22:00  \n",
       "3  2019-10-14 04:36:00  \n",
       "4  2019-10-24 00:45:00  "
      ]
     },
     "execution_count": 7,
     "metadata": {},
     "output_type": "execute_result"
    }
   ],
   "source": [
    "last_payments = pd.DataFrame(df.groupby(['Game_ID', 'Platform', 'Device_ID', 'Install_DateTime']).agg({'Payment_DayTime': 'max'}))\n",
    "last_payments.index = last_payments.index.set_names(['Game_ID', 'Platform', 'Device_ID', 'Install_DateTime'])\n",
    "last_payments.reset_index(inplace = True)\n",
    "\n",
    "last_payments.head(5)"
   ]
  },
  {
   "cell_type": "code",
   "execution_count": 8,
   "metadata": {},
   "outputs": [
    {
     "data": {
      "text/html": [
       "<div>\n",
       "<style scoped>\n",
       "    .dataframe tbody tr th:only-of-type {\n",
       "        vertical-align: middle;\n",
       "    }\n",
       "\n",
       "    .dataframe tbody tr th {\n",
       "        vertical-align: top;\n",
       "    }\n",
       "\n",
       "    .dataframe thead th {\n",
       "        text-align: right;\n",
       "    }\n",
       "</style>\n",
       "<table border=\"1\" class=\"dataframe\">\n",
       "  <thead>\n",
       "    <tr style=\"text-align: right;\">\n",
       "      <th></th>\n",
       "      <th>Game_ID</th>\n",
       "      <th>Platform</th>\n",
       "      <th>Device_ID</th>\n",
       "      <th>Install_DateTime</th>\n",
       "      <th>Payment_DayTime</th>\n",
       "      <th>Total_Payments</th>\n",
       "      <th>LastTimeDiff</th>\n",
       "    </tr>\n",
       "  </thead>\n",
       "  <tbody>\n",
       "    <tr>\n",
       "      <th>0</th>\n",
       "      <td>Hidden City</td>\n",
       "      <td>Android</td>\n",
       "      <td>10035NEIPI8402</td>\n",
       "      <td>2019-11-10 20:19:00</td>\n",
       "      <td>2019-11-13 21:33:00</td>\n",
       "      <td>150.97</td>\n",
       "      <td>4394.0</td>\n",
       "    </tr>\n",
       "    <tr>\n",
       "      <th>1</th>\n",
       "      <td>Hidden City</td>\n",
       "      <td>Android</td>\n",
       "      <td>10042SDNBF7065</td>\n",
       "      <td>2019-10-18 01:12:00</td>\n",
       "      <td>2019-10-21 09:06:00</td>\n",
       "      <td>70.96</td>\n",
       "      <td>4794.0</td>\n",
       "    </tr>\n",
       "    <tr>\n",
       "      <th>2</th>\n",
       "      <td>Hidden City</td>\n",
       "      <td>Android</td>\n",
       "      <td>10061PSNAJ3947</td>\n",
       "      <td>2019-09-24 02:22:00</td>\n",
       "      <td>2019-09-26 20:22:00</td>\n",
       "      <td>119.97</td>\n",
       "      <td>3960.0</td>\n",
       "    </tr>\n",
       "    <tr>\n",
       "      <th>3</th>\n",
       "      <td>Hidden City</td>\n",
       "      <td>Android</td>\n",
       "      <td>10127ZEHMN6457</td>\n",
       "      <td>2019-10-12 11:09:00</td>\n",
       "      <td>2019-10-14 04:36:00</td>\n",
       "      <td>89.95</td>\n",
       "      <td>2487.0</td>\n",
       "    </tr>\n",
       "    <tr>\n",
       "      <th>4</th>\n",
       "      <td>Hidden City</td>\n",
       "      <td>Android</td>\n",
       "      <td>10156IEACL3321</td>\n",
       "      <td>2019-10-21 04:54:00</td>\n",
       "      <td>2019-10-24 00:45:00</td>\n",
       "      <td>111.97</td>\n",
       "      <td>4071.0</td>\n",
       "    </tr>\n",
       "  </tbody>\n",
       "</table>\n",
       "</div>"
      ],
      "text/plain": [
       "       Game_ID Platform       Device_ID     Install_DateTime  \\\n",
       "0  Hidden City  Android  10035NEIPI8402  2019-11-10 20:19:00   \n",
       "1  Hidden City  Android  10042SDNBF7065  2019-10-18 01:12:00   \n",
       "2  Hidden City  Android  10061PSNAJ3947  2019-09-24 02:22:00   \n",
       "3  Hidden City  Android  10127ZEHMN6457  2019-10-12 11:09:00   \n",
       "4  Hidden City  Android  10156IEACL3321  2019-10-21 04:54:00   \n",
       "\n",
       "       Payment_DayTime  Total_Payments  LastTimeDiff  \n",
       "0  2019-11-13 21:33:00          150.97        4394.0  \n",
       "1  2019-10-21 09:06:00           70.96        4794.0  \n",
       "2  2019-09-26 20:22:00          119.97        3960.0  \n",
       "3  2019-10-14 04:36:00           89.95        2487.0  \n",
       "4  2019-10-24 00:45:00          111.97        4071.0  "
      ]
     },
     "execution_count": 8,
     "metadata": {},
     "output_type": "execute_result"
    }
   ],
   "source": [
    "total_time = pd.merge(last_payments, dataset.loc[:, ['Game_ID', 'Platform', 'Device_ID', 'Install_DateTime', 'Payment_DayTime', 'Total_Payments']], on = ['Game_ID', 'Platform', 'Device_ID', 'Install_DateTime', 'Payment_DayTime'])\n",
    "total_time['LastTimeDiff'] = (pd.to_datetime(total_time.Payment_DayTime) - pd.to_datetime(total_time.Install_DateTime)) / pd.Timedelta(minutes=1)\n",
    "total_time.head(5)"
   ]
  },
  {
   "cell_type": "code",
   "execution_count": 9,
   "metadata": {},
   "outputs": [
    {
     "data": {
      "text/html": [
       "<div>\n",
       "<style scoped>\n",
       "    .dataframe tbody tr th:only-of-type {\n",
       "        vertical-align: middle;\n",
       "    }\n",
       "\n",
       "    .dataframe tbody tr th {\n",
       "        vertical-align: top;\n",
       "    }\n",
       "\n",
       "    .dataframe thead th {\n",
       "        text-align: right;\n",
       "    }\n",
       "</style>\n",
       "<table border=\"1\" class=\"dataframe\">\n",
       "  <thead>\n",
       "    <tr style=\"text-align: right;\">\n",
       "      <th></th>\n",
       "      <th>Game_ID</th>\n",
       "      <th>Platform</th>\n",
       "      <th>Device_ID</th>\n",
       "      <th>Install_DateTime</th>\n",
       "      <th>Payment_DayTime</th>\n",
       "    </tr>\n",
       "  </thead>\n",
       "  <tbody>\n",
       "    <tr>\n",
       "      <th>0</th>\n",
       "      <td>Hidden City</td>\n",
       "      <td>Android</td>\n",
       "      <td>10035NEIPI8402</td>\n",
       "      <td>2019-11-10 20:19:00</td>\n",
       "      <td>2019-11-11 03:50:00</td>\n",
       "    </tr>\n",
       "    <tr>\n",
       "      <th>1</th>\n",
       "      <td>Hidden City</td>\n",
       "      <td>Android</td>\n",
       "      <td>10042SDNBF7065</td>\n",
       "      <td>2019-10-18 01:12:00</td>\n",
       "      <td>2019-10-18 15:25:00</td>\n",
       "    </tr>\n",
       "    <tr>\n",
       "      <th>2</th>\n",
       "      <td>Hidden City</td>\n",
       "      <td>Android</td>\n",
       "      <td>10061PSNAJ3947</td>\n",
       "      <td>2019-09-24 02:22:00</td>\n",
       "      <td>2019-09-25 17:26:00</td>\n",
       "    </tr>\n",
       "    <tr>\n",
       "      <th>3</th>\n",
       "      <td>Hidden City</td>\n",
       "      <td>Android</td>\n",
       "      <td>10127ZEHMN6457</td>\n",
       "      <td>2019-10-12 11:09:00</td>\n",
       "      <td>2019-10-12 16:18:00</td>\n",
       "    </tr>\n",
       "    <tr>\n",
       "      <th>4</th>\n",
       "      <td>Hidden City</td>\n",
       "      <td>Android</td>\n",
       "      <td>10156IEACL3321</td>\n",
       "      <td>2019-10-21 04:54:00</td>\n",
       "      <td>2019-10-21 18:42:00</td>\n",
       "    </tr>\n",
       "  </tbody>\n",
       "</table>\n",
       "</div>"
      ],
      "text/plain": [
       "       Game_ID Platform       Device_ID     Install_DateTime  \\\n",
       "0  Hidden City  Android  10035NEIPI8402  2019-11-10 20:19:00   \n",
       "1  Hidden City  Android  10042SDNBF7065  2019-10-18 01:12:00   \n",
       "2  Hidden City  Android  10061PSNAJ3947  2019-09-24 02:22:00   \n",
       "3  Hidden City  Android  10127ZEHMN6457  2019-10-12 11:09:00   \n",
       "4  Hidden City  Android  10156IEACL3321  2019-10-21 04:54:00   \n",
       "\n",
       "       Payment_DayTime  \n",
       "0  2019-11-11 03:50:00  \n",
       "1  2019-10-18 15:25:00  \n",
       "2  2019-09-25 17:26:00  \n",
       "3  2019-10-12 16:18:00  \n",
       "4  2019-10-21 18:42:00  "
      ]
     },
     "execution_count": 9,
     "metadata": {},
     "output_type": "execute_result"
    }
   ],
   "source": [
    "first_payments = pd.DataFrame(df.groupby(['Game_ID', 'Platform', 'Device_ID', 'Install_DateTime']).agg({'Payment_DayTime': 'min'}))\n",
    "first_payments.index = first_payments.index.set_names(['Game_ID', 'Platform', 'Device_ID', 'Install_DateTime'])\n",
    "first_payments.reset_index(inplace = True)\n",
    "\n",
    "first_payments.head(5)"
   ]
  },
  {
   "cell_type": "code",
   "execution_count": 10,
   "metadata": {},
   "outputs": [
    {
     "data": {
      "text/html": [
       "<div>\n",
       "<style scoped>\n",
       "    .dataframe tbody tr th:only-of-type {\n",
       "        vertical-align: middle;\n",
       "    }\n",
       "\n",
       "    .dataframe tbody tr th {\n",
       "        vertical-align: top;\n",
       "    }\n",
       "\n",
       "    .dataframe thead th {\n",
       "        text-align: right;\n",
       "    }\n",
       "</style>\n",
       "<table border=\"1\" class=\"dataframe\">\n",
       "  <thead>\n",
       "    <tr style=\"text-align: right;\">\n",
       "      <th></th>\n",
       "      <th>Game_ID</th>\n",
       "      <th>Platform</th>\n",
       "      <th>Device_ID</th>\n",
       "      <th>Install_DateTime</th>\n",
       "      <th>Payment_DayTime</th>\n",
       "      <th>Payment_Amount</th>\n",
       "      <th>FirstTimeDiff</th>\n",
       "    </tr>\n",
       "  </thead>\n",
       "  <tbody>\n",
       "    <tr>\n",
       "      <th>0</th>\n",
       "      <td>Hidden City</td>\n",
       "      <td>Android</td>\n",
       "      <td>10035NEIPI8402</td>\n",
       "      <td>2019-11-10 20:19:00</td>\n",
       "      <td>2019-11-11 03:50:00</td>\n",
       "      <td>49.99</td>\n",
       "      <td>451.0</td>\n",
       "    </tr>\n",
       "    <tr>\n",
       "      <th>1</th>\n",
       "      <td>Hidden City</td>\n",
       "      <td>Android</td>\n",
       "      <td>10042SDNBF7065</td>\n",
       "      <td>2019-10-18 01:12:00</td>\n",
       "      <td>2019-10-18 15:25:00</td>\n",
       "      <td>0.99</td>\n",
       "      <td>853.0</td>\n",
       "    </tr>\n",
       "    <tr>\n",
       "      <th>2</th>\n",
       "      <td>Hidden City</td>\n",
       "      <td>Android</td>\n",
       "      <td>10061PSNAJ3947</td>\n",
       "      <td>2019-09-24 02:22:00</td>\n",
       "      <td>2019-09-25 17:26:00</td>\n",
       "      <td>99.99</td>\n",
       "      <td>2344.0</td>\n",
       "    </tr>\n",
       "    <tr>\n",
       "      <th>3</th>\n",
       "      <td>Hidden City</td>\n",
       "      <td>Android</td>\n",
       "      <td>10127ZEHMN6457</td>\n",
       "      <td>2019-10-12 11:09:00</td>\n",
       "      <td>2019-10-12 16:18:00</td>\n",
       "      <td>9.99</td>\n",
       "      <td>309.0</td>\n",
       "    </tr>\n",
       "    <tr>\n",
       "      <th>4</th>\n",
       "      <td>Hidden City</td>\n",
       "      <td>Android</td>\n",
       "      <td>10156IEACL3321</td>\n",
       "      <td>2019-10-21 04:54:00</td>\n",
       "      <td>2019-10-21 18:42:00</td>\n",
       "      <td>99.99</td>\n",
       "      <td>828.0</td>\n",
       "    </tr>\n",
       "  </tbody>\n",
       "</table>\n",
       "</div>"
      ],
      "text/plain": [
       "       Game_ID Platform       Device_ID     Install_DateTime  \\\n",
       "0  Hidden City  Android  10035NEIPI8402  2019-11-10 20:19:00   \n",
       "1  Hidden City  Android  10042SDNBF7065  2019-10-18 01:12:00   \n",
       "2  Hidden City  Android  10061PSNAJ3947  2019-09-24 02:22:00   \n",
       "3  Hidden City  Android  10127ZEHMN6457  2019-10-12 11:09:00   \n",
       "4  Hidden City  Android  10156IEACL3321  2019-10-21 04:54:00   \n",
       "\n",
       "       Payment_DayTime  Payment_Amount  FirstTimeDiff  \n",
       "0  2019-11-11 03:50:00           49.99          451.0  \n",
       "1  2019-10-18 15:25:00            0.99          853.0  \n",
       "2  2019-09-25 17:26:00           99.99         2344.0  \n",
       "3  2019-10-12 16:18:00            9.99          309.0  \n",
       "4  2019-10-21 18:42:00           99.99          828.0  "
      ]
     },
     "execution_count": 10,
     "metadata": {},
     "output_type": "execute_result"
    }
   ],
   "source": [
    "first_time = pd.merge(first_payments, dataset.loc[:, ['Game_ID', 'Platform', 'Device_ID', 'Install_DateTime', 'Payment_DayTime', 'Payment_Amount']], on = ['Game_ID', 'Platform', 'Device_ID', 'Install_DateTime', 'Payment_DayTime'])\n",
    "first_time['FirstTimeDiff'] = (pd.to_datetime(first_time.Payment_DayTime) - pd.to_datetime(first_time.Install_DateTime)) / pd.Timedelta(minutes=1)\n",
    "first_time.head(5)"
   ]
  },
  {
   "cell_type": "code",
   "execution_count": 11,
   "metadata": {},
   "outputs": [
    {
     "data": {
      "text/plain": [
       "(31317, 7)"
      ]
     },
     "execution_count": 11,
     "metadata": {},
     "output_type": "execute_result"
    }
   ],
   "source": [
    "first_time.shape"
   ]
  },
  {
   "cell_type": "code",
   "execution_count": 12,
   "metadata": {},
   "outputs": [
    {
     "data": {
      "text/plain": [
       "True"
      ]
     },
     "execution_count": 12,
     "metadata": {},
     "output_type": "execute_result"
    }
   ],
   "source": [
    "total_payments.shape[0] == last_payments.shape[0] == first_payments.shape[0] == total_time.shape[0] ==  first_time.shape[0]"
   ]
  },
  {
   "cell_type": "markdown",
   "metadata": {},
   "source": [
    "## Normality check"
   ]
  },
  {
   "cell_type": "code",
   "execution_count": 13,
   "metadata": {},
   "outputs": [
    {
     "data": {
      "image/png": "[encoded data removed]",
      "text/plain": [
       "<Figure size 864x288 with 3 Axes>"
      ]
     },
     "metadata": {},
     "output_type": "display_data"
    }
   ],
   "source": [
    "keys = list(total_payments.Game_ID.unique())\n",
    "\n",
    "fig, axes = plt.subplots(ncols=len(keys))\n",
    "fig.set_size_inches(4 * len(keys), 4)\n",
    "axes = axes.flatten()\n",
    "\n",
    "for key, ax in zip(keys, axes):\n",
    "    ax.hist(total_payments.loc[(total_payments['Game_ID'] == key) , 'Total_Payments'], density=True, bins=20)\n",
    "    \n",
    "    loc = total_payments.loc[(total_payments['Game_ID'] == key) , 'Total_Payments'].mean()\n",
    "    scale = total_payments.loc[(total_payments['Game_ID'] == key) , 'Total_Payments'].std()\n",
    "    \n",
    "    x_left, x_right = ax.get_xlim()\n",
    "    x = np.linspace(x_left, x_right, 10000)\n",
    "    y = stats.norm.pdf(x, loc=loc, scale=scale)\n",
    "    \n",
    "    ax.plot(x, y, linestyle='dashed')\n",
    "    ax.set_title(key)"
   ]
  },
  {
   "cell_type": "code",
   "execution_count": 53,
   "metadata": {},
   "outputs": [],
   "source": [
    "# вероятно, допущение о том, что это когорта 4го дня, было слишком смелым"
   ]
  },
  {
   "cell_type": "markdown",
   "metadata": {},
   "source": [
    "## Payments by game check"
   ]
  },
  {
   "cell_type": "code",
   "execution_count": 14,
   "metadata": {},
   "outputs": [
    {
     "data": {
      "text/plain": [
       "['Hidden City', 'Jewels of Rome', 'Mahjong']"
      ]
     },
     "execution_count": 14,
     "metadata": {},
     "output_type": "execute_result"
    }
   ],
   "source": [
    "list(total_payments.Game_ID.unique())"
   ]
  },
  {
   "cell_type": "code",
   "execution_count": 15,
   "metadata": {},
   "outputs": [],
   "source": [
    "hc = np.array(total_payments.loc[(total_payments['Game_ID'] == 'Hidden City') , 'Total_Payments'])\n",
    "jor = np.array(total_payments.loc[(total_payments['Game_ID'] == 'Jewels of Rome') , 'Total_Payments'])\n",
    "mj = np.array(total_payments.loc[(total_payments['Game_ID'] == 'Mahjong') , 'Total_Payments'])"
   ]
  },
  {
   "cell_type": "code",
   "execution_count": 16,
   "metadata": {},
   "outputs": [
    {
     "data": {
      "text/plain": [
       "(10530, 10190, 10597)"
      ]
     },
     "execution_count": 16,
     "metadata": {},
     "output_type": "execute_result"
    }
   ],
   "source": [
    "hc_len = len(hc)\n",
    "jor_len = len(jor)\n",
    "mj_len = len(mj)\n",
    "\n",
    "hc_len, jor_len, mj_len"
   ]
  },
  {
   "cell_type": "code",
   "execution_count": 17,
   "metadata": {},
   "outputs": [
    {
     "data": {
      "text/plain": [
       "(97.19913675213675, 98.72315996074585, 98.22904123808625)"
      ]
     },
     "execution_count": 17,
     "metadata": {},
     "output_type": "execute_result"
    }
   ],
   "source": [
    "hc_mean = hc.mean()\n",
    "jor_mean = jor.mean()\n",
    "mj_mean = mj.mean()\n",
    "\n",
    "hc_mean, jor_mean, mj_mean"
   ]
  },
  {
   "cell_type": "code",
   "execution_count": 18,
   "metadata": {},
   "outputs": [
    {
     "data": {
      "text/plain": [
       "98.04352460325063"
      ]
     },
     "execution_count": 18,
     "metadata": {},
     "output_type": "execute_result"
    }
   ],
   "source": [
    "games = np.concatenate([hc, jor, mj])\n",
    "games_mean = games.mean()\n",
    "games_mean"
   ]
  },
  {
   "cell_type": "code",
   "execution_count": 19,
   "metadata": {},
   "outputs": [
    {
     "data": {
      "text/plain": [
       "(12579.308392973577, 185552705.8895613)"
      ]
     },
     "execution_count": 19,
     "metadata": {},
     "output_type": "execute_result"
    }
   ],
   "source": [
    "SS_b = hc_len * (hc_mean - games_mean) ** 2 + jor_len * (jor_mean - games_mean) ** 2 + mj_len * (mj_mean - games_mean) ** 2\n",
    "\n",
    "SS_w = ((hc - hc_mean) ** 2).sum() + ((jor - jor_mean) ** 2).sum() + ((mj - mj_mean) ** 2).sum()\n",
    "\n",
    "SS_b, SS_w"
   ]
  },
  {
   "cell_type": "code",
   "execution_count": 20,
   "metadata": {},
   "outputs": [
    {
     "data": {
      "text/plain": [
       "(6289.654196486788, 5925.551059895296)"
      ]
     },
     "execution_count": 20,
     "metadata": {},
     "output_type": "execute_result"
    }
   ],
   "source": [
    "k = 3\n",
    "n = len(games)\n",
    "\n",
    "k1 = k - 1\n",
    "k2 = n - k\n",
    "\n",
    "sigma2_b = SS_b / k1\n",
    "sigma2_w = SS_w / k2\n",
    "\n",
    "sigma2_b, sigma2_w"
   ]
  },
  {
   "cell_type": "code",
   "execution_count": 21,
   "metadata": {},
   "outputs": [
    {
     "data": {
      "text/plain": [
       "1.0614462913087996"
      ]
     },
     "execution_count": 21,
     "metadata": {},
     "output_type": "execute_result"
    }
   ],
   "source": [
    "F = sigma2_b / sigma2_w\n",
    "F"
   ]
  },
  {
   "cell_type": "code",
   "execution_count": 22,
   "metadata": {},
   "outputs": [
    {
     "data": {
      "text/plain": [
       "2.99601888608252"
      ]
     },
     "execution_count": 22,
     "metadata": {},
     "output_type": "execute_result"
    }
   ],
   "source": [
    "alpha = 0.05\n",
    "\n",
    "t = stats.f.ppf(1 - alpha, k1, k2)\n",
    "t"
   ]
  },
  {
   "cell_type": "code",
   "execution_count": 23,
   "metadata": {},
   "outputs": [
    {
     "data": {
      "text/plain": [
       "<matplotlib.collections.PolyCollection at 0x19333025b88>"
      ]
     },
     "execution_count": 23,
     "metadata": {},
     "output_type": "execute_result"
    },
    {
     "data": {
      "image/png": "[encoded data removed]",
      "text/plain": [
       "<Figure size 432x288 with 1 Axes>"
      ]
     },
     "metadata": {},
     "output_type": "display_data"
    }
   ],
   "source": [
    "ox = np.linspace(0, 6, 500)\n",
    "oy = stats.f.pdf(ox, k1, k2)\n",
    "\n",
    "ox_right = np.linspace(t, 6, 100)\n",
    "oy_right = stats.f.pdf(ox_right, k1, k2)\n",
    "\n",
    "plt.plot(ox, oy)\n",
    "plt.fill_between(ox_right, oy_right, alpha=0.5)"
   ]
  },
  {
   "cell_type": "code",
   "execution_count": 24,
   "metadata": {},
   "outputs": [
    {
     "data": {
      "text/plain": [
       "False"
      ]
     },
     "execution_count": 24,
     "metadata": {},
     "output_type": "execute_result"
    }
   ],
   "source": [
    "F > t"
   ]
  },
  {
   "cell_type": "markdown",
   "metadata": {},
   "source": [
    "## Platform dependance check"
   ]
  },
  {
   "cell_type": "code",
   "execution_count": 25,
   "metadata": {},
   "outputs": [
    {
     "data": {
      "text/plain": [
       "['Android', 'Facebook', 'iOS']"
      ]
     },
     "execution_count": 25,
     "metadata": {},
     "output_type": "execute_result"
    }
   ],
   "source": [
    "list(total_payments.Platform.unique())"
   ]
  },
  {
   "cell_type": "code",
   "execution_count": 26,
   "metadata": {},
   "outputs": [],
   "source": [
    "ios = np.array(total_payments.loc[(total_payments['Platform'] == 'iOS') , 'Total_Payments'])\n",
    "gp = np.array(total_payments.loc[(total_payments['Platform'] == 'Android') , 'Total_Payments'])\n",
    "fb = np.array(total_payments.loc[(total_payments['Platform'] == 'Facebook') , 'Total_Payments'])"
   ]
  },
  {
   "cell_type": "code",
   "execution_count": 27,
   "metadata": {},
   "outputs": [
    {
     "data": {
      "text/plain": [
       "(97.69399913904437, 97.85492220049318, 98.83409142425387)"
      ]
     },
     "execution_count": 27,
     "metadata": {},
     "output_type": "execute_result"
    }
   ],
   "source": [
    "ios_mean = ios.mean()\n",
    "gp_mean = gp.mean()\n",
    "fb_mean = fb.mean()\n",
    "\n",
    "ios_mean, gp_mean, fb_mean"
   ]
  },
  {
   "cell_type": "code",
   "execution_count": 28,
   "metadata": {},
   "outputs": [
    {
     "data": {
      "text/plain": [
       "98.04352460325065"
      ]
     },
     "execution_count": 28,
     "metadata": {},
     "output_type": "execute_result"
    }
   ],
   "source": [
    "platforms = np.concatenate([ios, gp, fb])\n",
    "platforms_mean = platforms.mean()\n",
    "platforms_mean"
   ]
  },
  {
   "cell_type": "code",
   "execution_count": 29,
   "metadata": {},
   "outputs": [
    {
     "data": {
      "text/plain": [
       "(6800.423290862025, 185558484.7746634)"
      ]
     },
     "execution_count": 29,
     "metadata": {},
     "output_type": "execute_result"
    }
   ],
   "source": [
    "SS_b = len(ios) * (ios_mean - platforms_mean) ** 2 + len(gp) * (gp_mean - platforms_mean) ** 2 + len(fb) * (fb_mean - platforms_mean) ** 2\n",
    "\n",
    "SS_w = ((ios - ios_mean) ** 2).sum() + ((gp - gp_mean) ** 2).sum() + ((fb - fb_mean) ** 2).sum()\n",
    "\n",
    "SS_b, SS_w"
   ]
  },
  {
   "cell_type": "code",
   "execution_count": 30,
   "metadata": {},
   "outputs": [
    {
     "data": {
      "text/plain": [
       "(3400.2116454310126, 5925.735606267593)"
      ]
     },
     "execution_count": 30,
     "metadata": {},
     "output_type": "execute_result"
    }
   ],
   "source": [
    "k = 3\n",
    "n = len(platforms)\n",
    "\n",
    "k1 = k - 1\n",
    "k2 = n - k\n",
    "\n",
    "sigma2_b = SS_b / k1\n",
    "sigma2_w = SS_w / k2\n",
    "\n",
    "sigma2_b, sigma2_w"
   ]
  },
  {
   "cell_type": "code",
   "execution_count": 31,
   "metadata": {},
   "outputs": [
    {
     "data": {
      "text/plain": [
       "0.5738041437141815"
      ]
     },
     "execution_count": 31,
     "metadata": {},
     "output_type": "execute_result"
    }
   ],
   "source": [
    "F = sigma2_b / sigma2_w\n",
    "F"
   ]
  },
  {
   "cell_type": "code",
   "execution_count": 32,
   "metadata": {},
   "outputs": [
    {
     "data": {
      "text/plain": [
       "2.99601888608252"
      ]
     },
     "execution_count": 32,
     "metadata": {},
     "output_type": "execute_result"
    }
   ],
   "source": [
    "alpha = 0.05\n",
    "\n",
    "t = stats.f.ppf(1 - alpha, k1, k2)\n",
    "t"
   ]
  },
  {
   "cell_type": "code",
   "execution_count": 33,
   "metadata": {},
   "outputs": [
    {
     "data": {
      "text/plain": [
       "False"
      ]
     },
     "execution_count": 33,
     "metadata": {},
     "output_type": "execute_result"
    }
   ],
   "source": [
    "F > t"
   ]
  },
  {
   "cell_type": "markdown",
   "metadata": {},
   "source": [
    "## Total amount vs last payment time correlations"
   ]
  },
  {
   "cell_type": "code",
   "execution_count": 34,
   "metadata": {},
   "outputs": [
    {
     "data": {
      "text/plain": [
       "array([150.97,  70.96, 119.97, ..., 102.96,   1.99,   1.99])"
      ]
     },
     "execution_count": 34,
     "metadata": {},
     "output_type": "execute_result"
    }
   ],
   "source": [
    "payments = np.array(total_time['Total_Payments'])\n",
    "payments"
   ]
  },
  {
   "cell_type": "code",
   "execution_count": 35,
   "metadata": {},
   "outputs": [
    {
     "data": {
      "text/plain": [
       "array([4394., 4794., 3960., ..., 2598., 1642., 1991.])"
      ]
     },
     "execution_count": 35,
     "metadata": {},
     "output_type": "execute_result"
    }
   ],
   "source": [
    "lasttime = np.array(total_time['LastTimeDiff'])\n",
    "lasttime"
   ]
  },
  {
   "cell_type": "code",
   "execution_count": 36,
   "metadata": {},
   "outputs": [
    {
     "data": {
      "text/plain": [
       "0.21395195662033034"
      ]
     },
     "execution_count": 36,
     "metadata": {},
     "output_type": "execute_result"
    }
   ],
   "source": [
    "np.corrcoef(payments, lasttime)[0][1]"
   ]
  },
  {
   "cell_type": "code",
   "execution_count": 37,
   "metadata": {},
   "outputs": [
    {
     "data": {
      "text/plain": [
       "True"
      ]
     },
     "execution_count": 37,
     "metadata": {},
     "output_type": "execute_result"
    }
   ],
   "source": [
    "len(payments) == len(lasttime)"
   ]
  },
  {
   "cell_type": "code",
   "execution_count": 38,
   "metadata": {},
   "outputs": [],
   "source": [
    "alpha = 0.05\n",
    "n = len(payments)"
   ]
  },
  {
   "cell_type": "code",
   "execution_count": 39,
   "metadata": {},
   "outputs": [],
   "source": [
    "def statistic(x: np.ndarray, y: np.ndarray) -> float:\n",
    "    if len(x) == len(y):\n",
    "        cov = ((x - x.mean()) * (y - y.mean())).sum() / (len(x) - 1)\n",
    "        corr = cov / (x.std(ddof = 1) * y.std(ddof = 1))\n",
    "        return (corr * (len(x) - 2) ** 0.5 / (1 - corr ** 2) ** 0.5)"
   ]
  },
  {
   "cell_type": "code",
   "execution_count": 40,
   "metadata": {},
   "outputs": [],
   "source": [
    "def critical_borders (alpha, n):\n",
    "\n",
    "    t1 = stats.t.ppf(alpha / 2, df = n - 2)\n",
    "    t2 = stats.t.ppf(1 - alpha / 2, df = n - 2)\n",
    "\n",
    "    return t1, t2"
   ]
  },
  {
   "cell_type": "code",
   "execution_count": 41,
   "metadata": {},
   "outputs": [
    {
     "data": {
      "text/plain": [
       "38.758519128046125"
      ]
     },
     "execution_count": 41,
     "metadata": {},
     "output_type": "execute_result"
    }
   ],
   "source": [
    "tl = statistic(payments, lasttime)\n",
    "tl"
   ]
  },
  {
   "cell_type": "code",
   "execution_count": 42,
   "metadata": {},
   "outputs": [
    {
     "data": {
      "text/plain": [
       "(-1.9600397425271334, 1.960039742527133)"
      ]
     },
     "execution_count": 42,
     "metadata": {},
     "output_type": "execute_result"
    }
   ],
   "source": [
    "tl1, tl2 = critical_borders(alpha, n)\n",
    "tl1, tl2"
   ]
  },
  {
   "cell_type": "code",
   "execution_count": 43,
   "metadata": {},
   "outputs": [
    {
     "data": {
      "text/plain": [
       "False"
      ]
     },
     "execution_count": 43,
     "metadata": {},
     "output_type": "execute_result"
    }
   ],
   "source": [
    "tl1 < tl < tl2"
   ]
  },
  {
   "cell_type": "code",
   "execution_count": 44,
   "metadata": {},
   "outputs": [],
   "source": [
    "# False - корреляция значима"
   ]
  },
  {
   "cell_type": "markdown",
   "metadata": {},
   "source": [
    "## First purchase amount vs first payment time correlations"
   ]
  },
  {
   "cell_type": "code",
   "execution_count": 45,
   "metadata": {},
   "outputs": [],
   "source": [
    "first_payments = np.array(first_time['Payment_Amount'])\n",
    "firsttime = np.array(first_time['FirstTimeDiff'])"
   ]
  },
  {
   "cell_type": "code",
   "execution_count": 46,
   "metadata": {},
   "outputs": [
    {
     "data": {
      "text/plain": [
       "-0.0036215154678333485"
      ]
     },
     "execution_count": 46,
     "metadata": {},
     "output_type": "execute_result"
    }
   ],
   "source": [
    "np.corrcoef(first_payments, firsttime)[0][1]"
   ]
  },
  {
   "cell_type": "code",
   "execution_count": 47,
   "metadata": {},
   "outputs": [
    {
     "data": {
      "text/plain": [
       "True"
      ]
     },
     "execution_count": 47,
     "metadata": {},
     "output_type": "execute_result"
    }
   ],
   "source": [
    "len(first_payments) == len(firsttime)"
   ]
  },
  {
   "cell_type": "code",
   "execution_count": 48,
   "metadata": {},
   "outputs": [],
   "source": [
    "alpha = 0.05\n",
    "n = len(first_payments)"
   ]
  },
  {
   "cell_type": "code",
   "execution_count": 49,
   "metadata": {},
   "outputs": [
    {
     "data": {
      "text/plain": [
       "-0.6408692006602453"
      ]
     },
     "execution_count": 49,
     "metadata": {},
     "output_type": "execute_result"
    }
   ],
   "source": [
    "tf = statistic(first_payments, firsttime)\n",
    "tf"
   ]
  },
  {
   "cell_type": "code",
   "execution_count": 50,
   "metadata": {},
   "outputs": [
    {
     "data": {
      "text/plain": [
       "(-1.9600397425271334, 1.960039742527133)"
      ]
     },
     "execution_count": 50,
     "metadata": {},
     "output_type": "execute_result"
    }
   ],
   "source": [
    "tf1, tf2 = critical_borders(alpha, n)\n",
    "tf1, tf2"
   ]
  },
  {
   "cell_type": "code",
   "execution_count": 51,
   "metadata": {},
   "outputs": [
    {
     "data": {
      "text/plain": [
       "True"
      ]
     },
     "execution_count": 51,
     "metadata": {},
     "output_type": "execute_result"
    }
   ],
   "source": [
    "tf1 < tf < tf2"
   ]
  },
  {
   "cell_type": "code",
   "execution_count": 52,
   "metadata": {},
   "outputs": [],
   "source": [
    "# True - корреляции нет"
   ]
  },
  {
   "cell_type": "code",
   "execution_count": null,
   "metadata": {},
   "outputs": [],
   "source": []
  }
 ],
 "metadata": {
  "kernelspec": {
   "display_name": "Python 3",
   "language": "python",
   "name": "python3"
  },
  "language_info": {
   "codemirror_mode": {
    "name": "ipython",
    "version": 3
   },
   "file_extension": ".py",
   "mimetype": "text/x-python",
   "name": "python",
   "nbconvert_exporter": "python",
   "pygments_lexer": "ipython3",
   "version": "3.7.7"
  }
 },
 "nbformat": 4,
 "nbformat_minor": 4
}
